{
  "nbformat": 4,
  "nbformat_minor": 0,
  "metadata": {
    "colab": {
      "name": "Loops in Python.ipynb",
      "provenance": []
    },
    "kernelspec": {
      "name": "python3",
      "display_name": "Python 3"
    },
    "language_info": {
      "name": "python"
    }
  },
  "cells": [
    {
      "cell_type": "markdown",
      "metadata": {
        "id": "i5phRMP9n05C"
      },
      "source": [
        "For our exercise, we will go back to using our handy favorite fruits list to practice some loops!"
      ]
    },
    {
      "cell_type": "code",
      "metadata": {
        "id": "PWfcHnm5VCz5",
        "colab": {
          "base_uri": "https://localhost:8080/"
        },
        "outputId": "ed62b112-6dee-4224-e4d1-062d1519297d"
      },
      "source": [
        "fruits = ['apples', 'bananas', 'blueberries', 'cherries', 'cantaloupes',\n",
        "          'dates', 'figs', 'grapes','kiwis', 'mangos']\n",
        "\n",
        "for fruit in fruits:\n",
        "  print(fruit)\n",
        "#For every fruit in the list of fruits print the fruit's name."
      ],
      "execution_count": null,
      "outputs": [
        {
          "output_type": "stream",
          "name": "stdout",
          "text": [
            "apples\n",
            "bananas\n",
            "blueberries\n",
            "cherries\n",
            "cantaloupes\n",
            "dates\n",
            "figs\n",
            "grapes\n",
            "kiwis\n",
            "mangos\n"
          ]
        }
      ]
    },
    {
      "cell_type": "markdown",
      "metadata": {
        "id": "i32VWWd8nKqa"
      },
      "source": [
        "The helpful factor in writing for loops is that we are able to assign temporary variables with names that help represent a single item on the list, so that we can keep track of exactly what Python is iterating over."
      ]
    },
    {
      "cell_type": "markdown",
      "metadata": {
        "id": "-qm_zTVXnfMP"
      },
      "source": [
        "For example, if we had a list of cars, or a list of cities that we would like to visit, we can assign the temporary variables in the following manner:"
      ]
    },
    {
      "cell_type": "code",
      "metadata": {
        "colab": {
          "base_uri": "https://localhost:8080/",
          "height": 131
        },
        "id": "sfmDS54knKV-",
        "outputId": "6971b585-0ae1-4cd7-e977-80ab224097e1"
      },
      "source": [
        "for car in cars\n",
        "#and\n",
        "for city in cities"
      ],
      "execution_count": null,
      "outputs": [
        {
          "output_type": "error",
          "ename": "SyntaxError",
          "evalue": "ignored",
          "traceback": [
            "\u001b[0;36m  File \u001b[0;32m\"<ipython-input-7-7e22deadbc8e>\"\u001b[0;36m, line \u001b[0;32m1\u001b[0m\n\u001b[0;31m    for car in cars\u001b[0m\n\u001b[0m                   ^\u001b[0m\n\u001b[0;31mSyntaxError\u001b[0m\u001b[0;31m:\u001b[0m invalid syntax\n"
          ]
        }
      ]
    },
    {
      "cell_type": "markdown",
      "metadata": {
        "id": "R8U5Z5xWpHwJ"
      },
      "source": [
        "There are many things that we can do with for loops; we will explore some of the concepts and some of the exciting things we can do and how we can use these concepts to help further our work with our data."
      ]
    },
    {
      "cell_type": "code",
      "metadata": {
        "colab": {
          "base_uri": "https://localhost:8080/"
        },
        "id": "m0RpNr0albOO",
        "outputId": "c4ac623c-a55f-4339-def3-15f69b174973"
      },
      "source": [
        "fruits = ['apples', 'bananas', 'blueberries', 'cherries', 'cantaloupes',\n",
        "          'dates', 'figs', 'grapes','kiwis', 'mangos']\n",
        "\n",
        "for fruit in fruits:\n",
        "  print(fruit.title() + \" are in the top ten favorite fruits.\" + \"\\n\")"
      ],
      "execution_count": null,
      "outputs": [
        {
          "output_type": "stream",
          "name": "stdout",
          "text": [
            "Apples are in the top ten favorite fruits.\n",
            "\n",
            "Bananas are in the top ten favorite fruits.\n",
            "\n",
            "Blueberries are in the top ten favorite fruits.\n",
            "\n",
            "Cherries are in the top ten favorite fruits.\n",
            "\n",
            "Cantaloupes are in the top ten favorite fruits.\n",
            "\n",
            "Dates are in the top ten favorite fruits.\n",
            "\n",
            "Figs are in the top ten favorite fruits.\n",
            "\n",
            "Grapes are in the top ten favorite fruits.\n",
            "\n",
            "Kiwis are in the top ten favorite fruits.\n",
            "\n",
            "Mangos are in the top ten favorite fruits.\n",
            "\n"
          ]
        }
      ]
    },
    {
      "cell_type": "markdown",
      "metadata": {
        "id": "18du4-ZNs3dX"
      },
      "source": [
        "In order to keep a for loop working as long as we would like it to it is important to remember a couple of points. First is that of course a for statement is needed in order to initiate a for loop. Another essential part of the beginning of a for loop is the inclusion of the colon(:). This colon helps Python know that we are starting a for loop with the conditions that we have set. \n",
        "\n",
        "Another important piece that we need to remember for creating and using for loops is proper indentation. Code under the for loop statement needs to be indented in order for Python to recognize it as part of our looping structure. Once we are ready to complete our loop, the next line of code (that is not intended for our loop) in not indented, representing a new block of code. Leaving this text indented with the our for loop block will cause Python to think that our new line of code is actually part of the loop and apply it to all the items in our list. \n",
        "\n",
        "As an example, if we wanted to make a final statement after our current loop that said each fruit was part of the top ten favorite fruits, we unindent and include our new statement."
      ]
    },
    {
      "cell_type": "code",
      "metadata": {
        "colab": {
          "base_uri": "https://localhost:8080/"
        },
        "id": "mkVcbfx6p2Lb",
        "outputId": "427caf77-e266-40e1-c0a4-a2cb38366cec"
      },
      "source": [
        "fruits = fruits = ['apples', 'bananas', 'blueberries', 'cherries', 'cantaloupes',\n",
        "          'dates', 'figs', 'grapes','kiwis', 'mangos']\n",
        "for fruit in fruits:\n",
        "  print(fruit.title() + \" are in the top ten favorite fruits.\" + \"\\n\")\n",
        "print(\"I wonder if more data would lead to different fruits being on the top ten list\")"
      ],
      "execution_count": null,
      "outputs": [
        {
          "output_type": "stream",
          "name": "stdout",
          "text": [
            "Apples are in the top ten favorite fruits.\n",
            "\n",
            "Bananas are in the top ten favorite fruits.\n",
            "\n",
            "Blueberries are in the top ten favorite fruits.\n",
            "\n",
            "Cherries are in the top ten favorite fruits.\n",
            "\n",
            "Cantaloupes are in the top ten favorite fruits.\n",
            "\n",
            "Dates are in the top ten favorite fruits.\n",
            "\n",
            "Figs are in the top ten favorite fruits.\n",
            "\n",
            "Grapes are in the top ten favorite fruits.\n",
            "\n",
            "Kiwis are in the top ten favorite fruits.\n",
            "\n",
            "Mangos are in the top ten favorite fruits.\n",
            "\n",
            "I wonder if more data would lead to different fruits being on the top ten list\n"
          ]
        }
      ]
    },
    {
      "cell_type": "markdown",
      "metadata": {
        "id": "r38kDggoz-eR"
      },
      "source": [
        ""
      ]
    },
    {
      "cell_type": "code",
      "metadata": {
        "colab": {
          "base_uri": "https://localhost:8080/"
        },
        "id": "UmCraJBEyvBd",
        "outputId": "a7b9a1de-55de-474e-a093-691d8a334504"
      },
      "source": [
        "\n",
        "for value in range(1,10):\n",
        "  print(value)\n",
        "print(\"\\n\")\n",
        "for value in range(1,11):\n",
        "  print(value)\n",
        "\n",
        "#If we wanted to go ahead and make our second range of numbers, which happens\n",
        "#to be perfect for the number of items that we have in a fruit list,\n",
        "# let's see how we can turn it into a list itself\n",
        "\n",
        "print(\"\\n\")\n"
      ],
      "execution_count": null,
      "outputs": [
        {
          "output_type": "stream",
          "name": "stdout",
          "text": [
            "1\n",
            "2\n",
            "3\n",
            "4\n",
            "5\n",
            "6\n",
            "7\n",
            "8\n",
            "9\n",
            "\n",
            "\n",
            "1\n",
            "2\n",
            "3\n",
            "4\n",
            "5\n",
            "6\n",
            "7\n",
            "8\n",
            "9\n",
            "10\n"
          ]
        }
      ]
    },
    {
      "cell_type": "code",
      "metadata": {
        "id": "HS5EckgTy94S"
      },
      "source": [
        ""
      ],
      "execution_count": null,
      "outputs": []
    }
  ]
}