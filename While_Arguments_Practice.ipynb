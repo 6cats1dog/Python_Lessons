{
  "nbformat": 4,
  "nbformat_minor": 0,
  "metadata": {
    "colab": {
      "name": "While Arguments Practice.ipynb",
      "provenance": []
    },
    "kernelspec": {
      "name": "python3",
      "display_name": "Python 3"
    },
    "language_info": {
      "name": "python"
    }
  },
  "cells": [
    {
      "cell_type": "code",
      "execution_count": null,
      "metadata": {
        "colab": {
          "base_uri": "https://localhost:8080/"
        },
        "id": "ROAbOSJ9OVq6",
        "outputId": "1fa910df-34f1-4646-cb43-06538f706066"
      },
      "outputs": [
        {
          "output_type": "stream",
          "name": "stdout",
          "text": [
            "1\n",
            "2\n",
            "3\n",
            "4\n",
            "5\n",
            "6\n",
            "7\n",
            "8\n",
            "9\n",
            "10\n",
            "11\n",
            "12\n",
            "13\n",
            "14\n",
            "15\n"
          ]
        }
      ],
      "source": [
        "number = 1\n",
        "while number <= 15:\n",
        "  print(number)\n",
        "  number +=1\n"
      ]
    },
    {
      "cell_type": "code",
      "source": [
        "number_2 = 45\n",
        "while number_2 < 100:\n",
        "  if number_2 % 12 == 0:\n",
        "    break\n",
        "  number_2 +=1\n",
        "number_2"
      ],
      "metadata": {
        "colab": {
          "base_uri": "https://localhost:8080/"
        },
        "id": "8spEul4rOjXE",
        "outputId": "222df9e4-56a6-4c37-a7e0-33cea5051aa0"
      },
      "execution_count": null,
      "outputs": [
        {
          "output_type": "execute_result",
          "data": {
            "text/plain": [
              "48"
            ]
          },
          "metadata": {},
          "execution_count": 30
        }
      ]
    },
    {
      "cell_type": "code",
      "source": [
        ""
      ],
      "metadata": {
        "id": "o2oyzAc2Qj2b"
      },
      "execution_count": null,
      "outputs": []
    }
  ]
}