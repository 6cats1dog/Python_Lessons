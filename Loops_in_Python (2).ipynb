{
  "nbformat": 4,
  "nbformat_minor": 0,
  "metadata": {
    "colab": {
      "name": "Loops in Python.ipynb",
      "provenance": []
    },
    "kernelspec": {
      "name": "python3",
      "display_name": "Python 3"
    },
    "language_info": {
      "name": "python"
    }
  },
  "cells": [
    {
      "cell_type": "markdown",
      "metadata": {
        "id": "c3hzoz7XHvEH"
      },
      "source": [
        ""
      ]
    },
    {
      "cell_type": "markdown",
      "metadata": {
        "id": "i5phRMP9n05C"
      },
      "source": [
        "For our exercise, we will go back to using our handy favorite fruits list to practice some loops!\n",
        "\n"
      ]
    },
    {
      "cell_type": "code",
      "metadata": {
        "id": "PWfcHnm5VCz5",
        "colab": {
          "base_uri": "https://localhost:8080/"
        },
        "outputId": "ed62b112-6dee-4224-e4d1-062d1519297d"
      },
      "source": [
        "fruits = ['apples', 'bananas', 'blueberries', 'cherries', 'cantaloupes',\n",
        "          'dates', 'figs', 'grapes','kiwis', 'mangos']\n",
        "\n",
        "for fruit in fruits:\n",
        "  print(fruit)\n",
        "#For every fruit in the list of fruits print the fruit's name."
      ],
      "execution_count": null,
      "outputs": [
        {
          "output_type": "stream",
          "name": "stdout",
          "text": [
            "apples\n",
            "bananas\n",
            "blueberries\n",
            "cherries\n",
            "cantaloupes\n",
            "dates\n",
            "figs\n",
            "grapes\n",
            "kiwis\n",
            "mangos\n"
          ]
        }
      ]
    },
    {
      "cell_type": "markdown",
      "metadata": {
        "id": "i32VWWd8nKqa"
      },
      "source": [
        "The helpful factor in writing for loops is that we are able to assign temporary variables with names that help represent a single item on the list, so that we can keep track of exactly what Python is iterating over."
      ]
    },
    {
      "cell_type": "markdown",
      "metadata": {
        "id": "-qm_zTVXnfMP"
      },
      "source": [
        "For example, if we had a list of cars, or a list of cities that we would like to visit, we can assign the temporary variables in the following manner:"
      ]
    },
    {
      "cell_type": "code",
      "metadata": {
        "colab": {
          "base_uri": "https://localhost:8080/",
          "height": 131
        },
        "id": "sfmDS54knKV-",
        "outputId": "6971b585-0ae1-4cd7-e977-80ab224097e1"
      },
      "source": [
        "for car in cars\n",
        "#and\n",
        "for city in cities"
      ],
      "execution_count": null,
      "outputs": [
        {
          "output_type": "error",
          "ename": "SyntaxError",
          "evalue": "ignored",
          "traceback": [
            "\u001b[0;36m  File \u001b[0;32m\"<ipython-input-7-7e22deadbc8e>\"\u001b[0;36m, line \u001b[0;32m1\u001b[0m\n\u001b[0;31m    for car in cars\u001b[0m\n\u001b[0m                   ^\u001b[0m\n\u001b[0;31mSyntaxError\u001b[0m\u001b[0;31m:\u001b[0m invalid syntax\n"
          ]
        }
      ]
    },
    {
      "cell_type": "markdown",
      "metadata": {
        "id": "R8U5Z5xWpHwJ"
      },
      "source": [
        "There are many things that we can do with for loops; we will explore some of the concepts and some of the exciting things we can do and how we can use these concepts to help further our work with our data."
      ]
    },
    {
      "cell_type": "code",
      "metadata": {
        "colab": {
          "base_uri": "https://localhost:8080/"
        },
        "id": "m0RpNr0albOO",
        "outputId": "c4ac623c-a55f-4339-def3-15f69b174973"
      },
      "source": [
        "fruits = ['apples', 'bananas', 'blueberries', 'cherries', 'cantaloupes',\n",
        "          'dates', 'figs', 'grapes','kiwis', 'mangos']\n",
        "\n",
        "for fruit in fruits:\n",
        "  print(fruit.title() + \" are in the top ten favorite fruits.\" + \"\\n\")"
      ],
      "execution_count": null,
      "outputs": [
        {
          "output_type": "stream",
          "name": "stdout",
          "text": [
            "Apples are in the top ten favorite fruits.\n",
            "\n",
            "Bananas are in the top ten favorite fruits.\n",
            "\n",
            "Blueberries are in the top ten favorite fruits.\n",
            "\n",
            "Cherries are in the top ten favorite fruits.\n",
            "\n",
            "Cantaloupes are in the top ten favorite fruits.\n",
            "\n",
            "Dates are in the top ten favorite fruits.\n",
            "\n",
            "Figs are in the top ten favorite fruits.\n",
            "\n",
            "Grapes are in the top ten favorite fruits.\n",
            "\n",
            "Kiwis are in the top ten favorite fruits.\n",
            "\n",
            "Mangos are in the top ten favorite fruits.\n",
            "\n"
          ]
        }
      ]
    },
    {
      "cell_type": "markdown",
      "metadata": {
        "id": "18du4-ZNs3dX"
      },
      "source": [
        "In order to keep a for loop working as long as we would like it to it is important to remember a couple of points. First is that of course a for statement is needed in order to initiate a for loop. Another essential part of the beginning of a for loop is the inclusion of the colon(:). This colon helps Python know that we are starting a for loop with the conditions that we have set. \n",
        "\n",
        "Another important piece that we need to remember for creating and using for loops is proper indentation. Code under the for loop statement needs to be indented in order for Python to recognize it as part of our looping structure. Once we are ready to complete our loop, the next line of code (that is not intended for our loop) in not indented, representing a new block of code. Leaving this text indented with the our for loop block will cause Python to think that our new line of code is actually part of the loop and apply it to all the items in our list. \n",
        "\n",
        "As an example, if we wanted to make a final statement after our current loop that said each fruit was part of the top ten favorite fruits, we unindent and include our new statement."
      ]
    },
    {
      "cell_type": "code",
      "metadata": {
        "colab": {
          "base_uri": "https://localhost:8080/"
        },
        "id": "mkVcbfx6p2Lb",
        "outputId": "427caf77-e266-40e1-c0a4-a2cb38366cec"
      },
      "source": [
        "fruits = fruits = ['apples', 'bananas', 'blueberries', 'cherries', 'cantaloupes',\n",
        "          'dates', 'figs', 'grapes','kiwis', 'mangos']\n",
        "for fruit in fruits:\n",
        "  print(fruit.title() + \" are in the top ten favorite fruits.\" + \"\\n\")\n",
        "print(\"I wonder if more data would lead to different fruits being on the top ten list\")"
      ],
      "execution_count": null,
      "outputs": [
        {
          "output_type": "stream",
          "name": "stdout",
          "text": [
            "Apples are in the top ten favorite fruits.\n",
            "\n",
            "Bananas are in the top ten favorite fruits.\n",
            "\n",
            "Blueberries are in the top ten favorite fruits.\n",
            "\n",
            "Cherries are in the top ten favorite fruits.\n",
            "\n",
            "Cantaloupes are in the top ten favorite fruits.\n",
            "\n",
            "Dates are in the top ten favorite fruits.\n",
            "\n",
            "Figs are in the top ten favorite fruits.\n",
            "\n",
            "Grapes are in the top ten favorite fruits.\n",
            "\n",
            "Kiwis are in the top ten favorite fruits.\n",
            "\n",
            "Mangos are in the top ten favorite fruits.\n",
            "\n",
            "I wonder if more data would lead to different fruits being on the top ten list\n"
          ]
        }
      ]
    },
    {
      "cell_type": "markdown",
      "metadata": {
        "id": "r38kDggoz-eR"
      },
      "source": [
        ""
      ]
    },
    {
      "cell_type": "code",
      "metadata": {
        "colab": {
          "base_uri": "https://localhost:8080/"
        },
        "id": "UmCraJBEyvBd",
        "outputId": "7548dc4e-09f0-463f-b144-667fd2bae215"
      },
      "source": [
        "\n",
        "for value in range(1,10):\n",
        "  print(value)\n",
        "print(\"\\n\")\n",
        "for value in range(1,11):\n",
        "  print(value)\n",
        "\n",
        "#If we wanted to go ahead and make our second range of numbers, which happens\n",
        "#to be perfect for the number of items that we have in a fruit list,\n",
        "# let's see how we can turn it into a list itself\n",
        "\n",
        "\n"
      ],
      "execution_count": 25,
      "outputs": [
        {
          "output_type": "stream",
          "name": "stdout",
          "text": [
            "1\n",
            "2\n",
            "3\n",
            "4\n",
            "5\n",
            "6\n",
            "7\n",
            "8\n",
            "9\n",
            "\n",
            "\n",
            "1\n",
            "2\n",
            "3\n",
            "4\n",
            "5\n",
            "6\n",
            "7\n",
            "8\n",
            "9\n",
            "10\n"
          ]
        }
      ]
    },
    {
      "cell_type": "code",
      "metadata": {
        "id": "HS5EckgTy94S",
        "colab": {
          "base_uri": "https://localhost:8080/"
        },
        "outputId": "ecb0f4f6-e01b-4051-9382-53364ffd8f2a"
      },
      "source": [
        "numbers = list(range(1,10))\n",
        "print(numbers)"
      ],
      "execution_count": 3,
      "outputs": [
        {
          "output_type": "stream",
          "name": "stdout",
          "text": [
            "[1, 2, 3, 4, 5, 6, 7, 8, 9]\n"
          ]
        }
      ]
    },
    {
      "cell_type": "code",
      "metadata": {
        "colab": {
          "base_uri": "https://localhost:8080/"
        },
        "id": "iiR-I20tJ4Od",
        "outputId": "e0d6b324-b74b-42a1-e6c8-7c8dd5e3e252"
      },
      "source": [
        "odd_numbers = list(range(1,20,2))\n",
        "print(odd_numbers)"
      ],
      "execution_count": 6,
      "outputs": [
        {
          "output_type": "stream",
          "name": "stdout",
          "text": [
            "[1, 3, 5, 7, 9, 11, 13, 15, 17, 19]\n"
          ]
        }
      ]
    },
    {
      "cell_type": "code",
      "metadata": {
        "colab": {
          "base_uri": "https://localhost:8080/"
        },
        "id": "QAHLUevhKHOP",
        "outputId": "0ed48817-7709-415c-efca-d5971c0f01fd"
      },
      "source": [
        "squares = []\n",
        "for value in range(1,12):\n",
        "  square = value**2\n",
        "  squares.append(square)\n",
        "print(squares)"
      ],
      "execution_count": 13,
      "outputs": [
        {
          "output_type": "stream",
          "name": "stdout",
          "text": [
            "[1, 4, 9, 16, 25, 36, 49, 64, 81, 100, 121]\n"
          ]
        }
      ]
    },
    {
      "cell_type": "markdown",
      "metadata": {
        "id": "Rf3k6saJMc6T"
      },
      "source": [
        "You can use list comprehension as well to build lists in a manner that is more concise. It is important to remember that in list comprehensions we are fitting out for loop into one line, along with adding them to our intended list. If we wanted to store the square numbers between 2 and 15, this is an example of how we would accomplish this using list comprehension."
      ]
    },
    {
      "cell_type": "code",
      "metadata": {
        "colab": {
          "base_uri": "https://localhost:8080/"
        },
        "id": "ptTaPTt6KkU2",
        "outputId": "78dbe1db-aca6-4248-f6ee-3bef7cd59f35"
      },
      "source": [
        "even_numbers = [value**2 for value in range(1,16)]\n",
        "print(even_numbers)"
      ],
      "execution_count": 23,
      "outputs": [
        {
          "output_type": "stream",
          "name": "stdout",
          "text": [
            "[1, 4, 9, 16, 25, 36, 49, 64, 81, 100, 121, 144, 169, 196, 225]\n"
          ]
        }
      ]
    },
    {
      "cell_type": "code",
      "metadata": {
        "colab": {
          "base_uri": "https://localhost:8080/"
        },
        "id": "Rm3dKdntKssE",
        "outputId": "74674217-fcb0-40a1-dad5-079e8e95584b"
      },
      "source": [
        "for value in range(1,21):\n",
        "  print(value)"
      ],
      "execution_count": 6,
      "outputs": [
        {
          "output_type": "stream",
          "name": "stdout",
          "text": [
            "1\n",
            "2\n",
            "3\n",
            "4\n",
            "5\n",
            "6\n",
            "7\n",
            "8\n",
            "9\n",
            "10\n",
            "11\n",
            "12\n",
            "13\n",
            "14\n",
            "15\n",
            "16\n",
            "17\n",
            "18\n",
            "19\n",
            "20\n"
          ]
        }
      ]
    },
    {
      "cell_type": "code",
      "metadata": {
        "colab": {
          "base_uri": "https://localhost:8080/"
        },
        "id": "cylKYJJjoihY",
        "outputId": "0938032d-1388-42cc-b531-06191ccd2a2e"
      },
      "source": [
        "money = list(range(1,1000000))\n",
        "print(money)\n"
      ],
      "execution_count": 9,
      "outputs": [
        {
          "output_type": "stream",
          "name": "stderr",
          "text": [
            "IOPub data rate exceeded.\n",
            "The notebook server will temporarily stop sending output\n",
            "to the client in order to avoid crashing it.\n",
            "To change this limit, set the config variable\n",
            "`--NotebookApp.iopub_data_rate_limit`.\n",
            "\n",
            "Current values:\n",
            "NotebookApp.iopub_data_rate_limit=1000000.0 (bytes/sec)\n",
            "NotebookApp.rate_limit_window=3.0 (secs)\n",
            "\n"
          ]
        }
      ]
    },
    {
      "cell_type": "code",
      "metadata": {
        "colab": {
          "base_uri": "https://localhost:8080/"
        },
        "id": "OfURRU5YpMDi",
        "outputId": "e1c27614-a8c8-45e7-de51-d372a1322d26"
      },
      "source": [
        "numbers = list(range(1,1000001))\n",
        "print(min(numbers))\n",
        "print(max(numbers))\n",
        "print(sum(numbers))"
      ],
      "execution_count": 18,
      "outputs": [
        {
          "output_type": "stream",
          "name": "stdout",
          "text": [
            "1\n",
            "1000000\n",
            "500000500000\n"
          ]
        }
      ]
    },
    {
      "cell_type": "code",
      "metadata": {
        "colab": {
          "base_uri": "https://localhost:8080/"
        },
        "id": "oyKsDSn-pvVS",
        "outputId": "8de85f3a-ec65-4e16-ae28-43b056cf3788"
      },
      "source": [
        "for value in range(1,21,2):\n",
        "  print(value)\n"
      ],
      "execution_count": 17,
      "outputs": [
        {
          "output_type": "stream",
          "name": "stdout",
          "text": [
            "1\n",
            "3\n",
            "5\n",
            "7\n",
            "9\n",
            "11\n",
            "13\n",
            "15\n",
            "17\n",
            "19\n"
          ]
        }
      ]
    },
    {
      "cell_type": "code",
      "metadata": {
        "colab": {
          "base_uri": "https://localhost:8080/"
        },
        "id": "ckmHuyDoqdf7",
        "outputId": "640fac7b-6642-453d-8e3b-577e6c071a95"
      },
      "source": [
        "threes = list(range(3,31,3))\n",
        "\n",
        "for number in threes:\n",
        "  print(number)\n",
        "\n",
        "  \n"
      ],
      "execution_count": 23,
      "outputs": [
        {
          "output_type": "stream",
          "name": "stdout",
          "text": [
            "3\n",
            "6\n",
            "9\n",
            "12\n",
            "15\n",
            "18\n",
            "21\n",
            "24\n",
            "27\n",
            "30\n"
          ]
        }
      ]
    },
    {
      "cell_type": "code",
      "metadata": {
        "colab": {
          "base_uri": "https://localhost:8080/"
        },
        "id": "m593uiBMrQyu",
        "outputId": "e531ea30-4ab3-4519-b484-86d68b6fb412"
      },
      "source": [
        "cubes = []\n",
        "\n",
        "for value in range(1,11):\n",
        "  cube = value**3\n",
        "  cubes.append(cube)\n",
        "\n",
        "for cube in cubes:\n",
        "  print(cube)"
      ],
      "execution_count": 26,
      "outputs": [
        {
          "output_type": "stream",
          "name": "stdout",
          "text": [
            "1\n",
            "8\n",
            "27\n",
            "64\n",
            "125\n",
            "216\n",
            "343\n",
            "512\n",
            "729\n",
            "1000\n"
          ]
        }
      ]
    },
    {
      "cell_type": "code",
      "metadata": {
        "colab": {
          "base_uri": "https://localhost:8080/"
        },
        "id": "U2CJxCq0tjKS",
        "outputId": "263b920f-7e4f-40fc-b63b-d92023082b61"
      },
      "source": [
        "cubes = [value**3 for value in range(1,11)]\n",
        "print(cubes)\n",
        "\n",
        "for cube in cubes:\n",
        "  print(cube)"
      ],
      "execution_count": 32,
      "outputs": [
        {
          "output_type": "stream",
          "name": "stdout",
          "text": [
            "[1, 8, 27, 64, 125, 216, 343, 512, 729, 1000]\n",
            "1\n",
            "8\n",
            "27\n",
            "64\n",
            "125\n",
            "216\n",
            "343\n",
            "512\n",
            "729\n",
            "1000\n"
          ]
        }
      ]
    },
    {
      "cell_type": "code",
      "metadata": {
        "colab": {
          "base_uri": "https://localhost:8080/"
        },
        "id": "W97CKrWPuSbF",
        "outputId": "7dbbf341-708a-4f99-c9f6-8327fdadd95c"
      },
      "source": [
        "#slicing \n",
        "\n",
        "fruits = ['apples', 'bananas', 'blueberries', 'cherries', 'cantaloupes',\n",
        "          'dates', 'figs', 'grapes','kiwis', 'mangos']\n",
        "\n",
        "print(fruits[0:3])\n",
        "print(fruits[1:4])\n",
        "print(fruits[:5])\n",
        "print(fruits[6:])"
      ],
      "execution_count": 36,
      "outputs": [
        {
          "output_type": "stream",
          "name": "stdout",
          "text": [
            "['apples', 'bananas', 'blueberries']\n",
            "['bananas', 'blueberries', 'cherries']\n",
            "['apples', 'bananas', 'blueberries', 'cherries', 'cantaloupes']\n",
            "['figs', 'grapes', 'kiwis', 'mangos']\n"
          ]
        }
      ]
    },
    {
      "cell_type": "code",
      "metadata": {
        "colab": {
          "base_uri": "https://localhost:8080/"
        },
        "id": "cNEQof-vdnm_",
        "outputId": "0d5f73c1-258f-44d2-f9a8-fe18f12d32fb"
      },
      "source": [
        "fruits = ['apples', 'bananas', 'blueberries', 'cherries', 'cantaloupes',\n",
        "          'dates', 'figs', 'grapes','kiwis', 'mangos']\n",
        "\n",
        "print(\"Here are my top 4 favorite fruits:\")\n",
        "for fruit in fruits[:4]:\n",
        "  print(fruit)"
      ],
      "execution_count": 37,
      "outputs": [
        {
          "output_type": "stream",
          "name": "stdout",
          "text": [
            "Here are my top 4 favorite fruits:\n",
            "apples\n",
            "bananas\n",
            "blueberries\n",
            "cherries\n"
          ]
        }
      ]
    },
    {
      "cell_type": "code",
      "metadata": {
        "id": "Sk-SkntgP3GM"
      },
      "source": [
        ""
      ],
      "execution_count": null,
      "outputs": []
    }
  ]
}