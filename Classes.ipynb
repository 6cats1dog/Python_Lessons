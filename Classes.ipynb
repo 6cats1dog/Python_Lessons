{
  "nbformat": 4,
  "nbformat_minor": 0,
  "metadata": {
    "colab": {
      "name": "Classes.ipynb",
      "provenance": []
    },
    "kernelspec": {
      "name": "python3",
      "display_name": "Python 3"
    },
    "language_info": {
      "name": "python"
    }
  },
  "cells": [
    {
      "cell_type": "code",
      "execution_count": 16,
      "metadata": {
        "id": "hKZ8Li0XSD6r"
      },
      "outputs": [],
      "source": [
        "class Cat():\n",
        "  \"\"\"A simple attempt to model a cat.\"\"\"\n",
        "  def __init__(self, name, age):\n",
        "    \"\"\"Initialize name and age attributes.\"\"\"\n",
        "    self.name = name \n",
        "    self.age = age\n",
        "  def play(self):\n",
        "    \"\"\"Simulate a cat playing.\"\"\" \n",
        "    print(self.name.title() + \" is now playing with their toy.\")\n",
        "\n",
        "  def treat_time(self):\n",
        "    \"\"\"Simulate cat asking for treats.\"\"\"\n",
        "    print(self.name.title() + \" says it's treat time!\")"
      ]
    },
    {
      "cell_type": "code",
      "source": [
        "my_cat = Cat('boots', 12)\n",
        "print(\"My cat's name is \" + my_cat.name.title() + \".\")\n",
        "print(\"My cat is \" + str(my_cat.age) + \" years old.\")"
      ],
      "metadata": {
        "colab": {
          "base_uri": "https://localhost:8080/"
        },
        "id": "qLn2sh17SdJh",
        "outputId": "22b3470b-34c6-4973-b95d-3ed49b8fee55"
      },
      "execution_count": 18,
      "outputs": [
        {
          "output_type": "stream",
          "name": "stdout",
          "text": [
            "My cat's name is Boots.\n",
            "My cat is 12 years old.\n"
          ]
        }
      ]
    },
    {
      "cell_type": "code",
      "source": [
        "my_cat.name"
      ],
      "metadata": {
        "colab": {
          "base_uri": "https://localhost:8080/",
          "height": 35
        },
        "id": "-yXUC6SmUxqC",
        "outputId": "c051b5aa-3f44-4870-d336-c7b07dbb41e3"
      },
      "execution_count": 20,
      "outputs": [
        {
          "output_type": "execute_result",
          "data": {
            "application/vnd.google.colaboratory.intrinsic+json": {
              "type": "string"
            },
            "text/plain": [
              "'boots'"
            ]
          },
          "metadata": {},
          "execution_count": 20
        }
      ]
    },
    {
      "cell_type": "code",
      "source": [
        "my_cat.play()\n",
        "my_cat.treat_time()"
      ],
      "metadata": {
        "colab": {
          "base_uri": "https://localhost:8080/"
        },
        "id": "ohv_9_9xTBdu",
        "outputId": "a689fe89-fa22-4236-aef9-954af1c92539"
      },
      "execution_count": 19,
      "outputs": [
        {
          "output_type": "stream",
          "name": "stdout",
          "text": [
            "Boots is now playing with their toy.\n",
            "Boots says it's treat time!\n"
          ]
        }
      ]
    },
    {
      "cell_type": "code",
      "source": [
        "my_cat = Cat('boots', 12)\n",
        "other_cat = Cat('Macaroni', 2)\n",
        "print(\"My cat's name is \" + my_cat.name.title() + \".\")\n",
        "print(\"My cat is \" + str(my_cat.age) + \" years old.\")\n",
        "my_cat.play()\n",
        "print(\"\\nMy other cat's name is \" + other_cat.name.title() + \".\")\n",
        "print(\"My other cat is \" + str(other_cat.age) + \" years old.\")\n",
        "other_cat.play()"
      ],
      "metadata": {
        "colab": {
          "base_uri": "https://localhost:8080/"
        },
        "id": "zldOjj2BUuz3",
        "outputId": "391db28f-c993-48f3-da79-5a1ec9f52a84"
      },
      "execution_count": 22,
      "outputs": [
        {
          "output_type": "stream",
          "name": "stdout",
          "text": [
            "My cat's name is Boots.\n",
            "My cat is 12 years old.\n",
            "Boots is now playing with their toy.\n",
            "\n",
            "My other cat's name is Macaroni.\n",
            "My other cat is 2 years old.\n",
            "Macaroni is now playing with their toy.\n"
          ]
        }
      ]
    },
    {
      "cell_type": "code",
      "source": [
        ""
      ],
      "metadata": {
        "id": "qcWAfozKVa4b"
      },
      "execution_count": null,
      "outputs": []
    }
  ]
}