{
  "nbformat": 4,
  "nbformat_minor": 0,
  "metadata": {
    "colab": {
      "name": "Python Work -Casing.ipynb",
      "provenance": []
    },
    "kernelspec": {
      "name": "python3",
      "display_name": "Python 3"
    },
    "language_info": {
      "name": "python"
    }
  },
  "cells": [
    {
      "cell_type": "code",
      "metadata": {
        "colab": {
          "base_uri": "https://localhost:8080/"
        },
        "id": "3W1ksuYqwriI",
        "outputId": "f54268aa-02fa-45b8-e8ef-17093b55c1cd"
      },
      "source": [
        "message = \"This is me practicing\"\n",
        "print(message)"
      ],
      "execution_count": null,
      "outputs": [
        {
          "output_type": "stream",
          "name": "stdout",
          "text": [
            "This is me practicing\n"
          ]
        }
      ]
    },
    {
      "cell_type": "code",
      "metadata": {
        "colab": {
          "base_uri": "https://localhost:8080/"
        },
        "id": "8H1oEB4HwyKS",
        "outputId": "85eb3959-50fc-4513-bff9-89c8e2d9649c"
      },
      "source": [
        "name = 'ada lovelace'\n",
        "print(name.title())"
      ],
      "execution_count": null,
      "outputs": [
        {
          "output_type": "stream",
          "name": "stdout",
          "text": [
            "Ada Lovelace\n"
          ]
        }
      ]
    },
    {
      "cell_type": "code",
      "metadata": {
        "colab": {
          "base_uri": "https://localhost:8080/",
          "height": 35
        },
        "id": "ub4htqfWxJeK",
        "outputId": "112e43cc-f849-4a34-95c6-97db90baf00e"
      },
      "source": [
        "name = 'JIM RILEY'\n",
        "name"
      ],
      "execution_count": null,
      "outputs": [
        {
          "output_type": "execute_result",
          "data": {
            "application/vnd.google.colaboratory.intrinsic+json": {
              "type": "string"
            },
            "text/plain": [
              "'JIM RILEY'"
            ]
          },
          "metadata": {},
          "execution_count": 3
        }
      ]
    },
    {
      "cell_type": "code",
      "metadata": {
        "colab": {
          "base_uri": "https://localhost:8080/",
          "height": 35
        },
        "id": "ix37YIbLsZQf",
        "outputId": "67029bce-686e-4f7d-eff2-081a3a6da800"
      },
      "source": [
        "name.title()"
      ],
      "execution_count": null,
      "outputs": [
        {
          "output_type": "execute_result",
          "data": {
            "application/vnd.google.colaboratory.intrinsic+json": {
              "type": "string"
            },
            "text/plain": [
              "'Jim Riley'"
            ]
          },
          "metadata": {},
          "execution_count": 21
        }
      ]
    },
    {
      "cell_type": "code",
      "metadata": {
        "colab": {
          "base_uri": "https://localhost:8080/"
        },
        "id": "ZtbeLWtKsbWV",
        "outputId": "8ba22a8b-265a-4ab0-d135-ace66de82601"
      },
      "source": [
        "email_campaign_names = \"Stacy schafer, barbara beardsly, JIM RILEY\"\n",
        "print(email_campaign_names)"
      ],
      "execution_count": null,
      "outputs": [
        {
          "output_type": "stream",
          "name": "stdout",
          "text": [
            "Stacy schafer, barbara beardsly, JIM RILEY\n"
          ]
        }
      ]
    },
    {
      "cell_type": "code",
      "metadata": {
        "colab": {
          "base_uri": "https://localhost:8080/",
          "height": 35
        },
        "id": "0zm9VXk7tRud",
        "outputId": "1800c19e-4535-4bd0-cd5d-36d70b5f2694"
      },
      "source": [
        "email_campaign_names.title()"
      ],
      "execution_count": null,
      "outputs": [
        {
          "output_type": "execute_result",
          "data": {
            "application/vnd.google.colaboratory.intrinsic+json": {
              "type": "string"
            },
            "text/plain": [
              "'Stacy Schafer, Barbara Beardsly, Jim Riley'"
            ]
          },
          "metadata": {},
          "execution_count": 18
        }
      ]
    },
    {
      "cell_type": "code",
      "metadata": {
        "colab": {
          "base_uri": "https://localhost:8080/"
        },
        "id": "Pasb6ODgtdV9",
        "outputId": "50d1f33c-7cb3-4d1f-aba8-72ff41813777"
      },
      "source": [
        "name.isupper()"
      ],
      "execution_count": null,
      "outputs": [
        {
          "output_type": "execute_result",
          "data": {
            "text/plain": [
              "True"
            ]
          },
          "metadata": {},
          "execution_count": 23
        }
      ]
    },
    {
      "cell_type": "code",
      "metadata": {
        "colab": {
          "base_uri": "https://localhost:8080/"
        },
        "id": "4b14i0KOuVoN",
        "outputId": "3d03fa5f-fd91-4edb-f0c7-aa8672e5ba56"
      },
      "source": [
        "name_1 = \"Stacy schafer\"\n",
        "#Double check that our name has been saved correctly in the variable \"name_1\"\n",
        "print(name_1)\n",
        "\n",
        "#After doing this check, we can use methods to manipulate our string.\n",
        "#Below we will print our variable in the three methods we have so far. \n",
        "print(name_1.upper())\n",
        "print(name_1.lower())\n",
        "print(name_1.title())\n",
        "\n",
        "#We will continue to use the same methods on our other two names, barbara beardsly and JIM RILEY\n",
        "\n",
        "name_2 = \"barbara beardsly\"\n",
        "print('\\n')\n",
        "print(name_2)\n",
        "print(name_2.upper())\n",
        "print(name_2.lower())\n",
        "print(name_2.title())\n",
        "\n",
        "name_3 = \"JIM RILEY\"\n",
        "print('\\n')\n",
        "print(name_3)\n",
        "print(name_3.upper())\n",
        "print(name_3.lower())\n",
        "print(name_3.title())\n",
        "\n",
        "#With our names barbara beardsly and JIM RILEY, our intended result can be\n",
        "#accomplished by just utilizig one method even if all the names are in a list.\n",
        "print('\\n')\n",
        "input = [\"JIM RILEY\", \"barbara beardsly\", \"Stacy schafer\", \"Tom Williams\"]\n",
        "list_of_names = [x.title() for x in input]\n",
        "print(list_of_names)"
      ],
      "execution_count": null,
      "outputs": [
        {
          "output_type": "stream",
          "name": "stdout",
          "text": [
            "Stacy schafer\n",
            "STACY SCHAFER\n",
            "stacy schafer\n",
            "Stacy Schafer\n",
            "\n",
            "\n",
            "barbara beardsly\n",
            "BARBARA BEARDSLY\n",
            "barbara beardsly\n",
            "Barbara Beardsly\n",
            "\n",
            "\n",
            "JIM RILEY\n",
            "JIM RILEY\n",
            "jim riley\n",
            "Jim Riley\n",
            "\n",
            "\n",
            "['Jim Riley', 'Barbara Beardsly', 'Stacy Schafer', 'Tom Williams']\n"
          ]
        }
      ]
    },
    {
      "cell_type": "code",
      "metadata": {
        "colab": {
          "base_uri": "https://localhost:8080/",
          "height": 130
        },
        "id": "sodziCuWwtkH",
        "outputId": "3f68fb9e-d94f-418d-cf13-e9c3c699fde2"
      },
      "source": [
        "name_2 = \"barbara beardsly\"\n",
        "name_2"
      ],
      "execution_count": null,
      "outputs": [
        {
          "output_type": "error",
          "ename": "SyntaxError",
          "evalue": "ignored",
          "traceback": [
            "\u001b[0;36m  File \u001b[0;32m\"<ipython-input-44-e2ee47520252>\"\u001b[0;36m, line \u001b[0;32m2\u001b[0m\n\u001b[0;31m    \\nname_2\u001b[0m\n\u001b[0m            ^\u001b[0m\n\u001b[0;31mSyntaxError\u001b[0m\u001b[0;31m:\u001b[0m unexpected character after line continuation character\n"
          ]
        }
      ]
    },
    {
      "cell_type": "code",
      "metadata": {
        "colab": {
          "base_uri": "https://localhost:8080/",
          "height": 52
        },
        "id": "SlKx3tWZvXqw",
        "outputId": "9ce7256a-325b-4f95-f31f-eb355edef69f"
      },
      "source": [
        "sentence = \"delilah likes to drive her mommy and daddy crazy.\"\n",
        "print(sentence)\n",
        "\n",
        "sentence.capitalize()\n",
        "sentence.title()\n"
      ],
      "execution_count": null,
      "outputs": [
        {
          "output_type": "stream",
          "name": "stdout",
          "text": [
            "delilah likes to drive her mommy and daddy crazy.\n"
          ]
        },
        {
          "output_type": "execute_result",
          "data": {
            "application/vnd.google.colaboratory.intrinsic+json": {
              "type": "string"
            },
            "text/plain": [
              "'Delilah Likes To Drive Her Mommy And Daddy Crazy.'"
            ]
          },
          "metadata": {},
          "execution_count": 34
        }
      ]
    },
    {
      "cell_type": "code",
      "metadata": {
        "colab": {
          "base_uri": "https://localhost:8080/"
        },
        "id": "leu8nzJPja-S",
        "outputId": "c6a53bc6-c41a-4250-d07f-85e7380e769c"
      },
      "source": [
        "full_name = \"Trisha Tucker\"\n",
        "message = \"Hello,\" + \" \" + full_name + \" \" + \"want to learn some code today?\"\n",
        "print(message)"
      ],
      "execution_count": 6,
      "outputs": [
        {
          "output_type": "stream",
          "name": "stdout",
          "text": [
            "Hello, Trisha Tucker want to learn some code today?\n"
          ]
        }
      ]
    },
    {
      "cell_type": "code",
      "metadata": {
        "colab": {
          "base_uri": "https://localhost:8080/",
          "height": 35
        },
        "id": "jinR-4CEj0Bk",
        "outputId": "25a49710-998c-44ad-829d-18d8637b97ca"
      },
      "source": [
        "full_name.upper()"
      ],
      "execution_count": 7,
      "outputs": [
        {
          "output_type": "execute_result",
          "data": {
            "application/vnd.google.colaboratory.intrinsic+json": {
              "type": "string"
            },
            "text/plain": [
              "'TRISHA TUCKER'"
            ]
          },
          "metadata": {},
          "execution_count": 7
        }
      ]
    },
    {
      "cell_type": "code",
      "metadata": {
        "colab": {
          "base_uri": "https://localhost:8080/",
          "height": 35
        },
        "id": "VfFMM-7Rn3Wa",
        "outputId": "f9036b42-211f-4f39-daed-a5769e49c1c0"
      },
      "source": [
        "full_name.lower()"
      ],
      "execution_count": 8,
      "outputs": [
        {
          "output_type": "execute_result",
          "data": {
            "application/vnd.google.colaboratory.intrinsic+json": {
              "type": "string"
            },
            "text/plain": [
              "'trisha tucker'"
            ]
          },
          "metadata": {},
          "execution_count": 8
        }
      ]
    },
    {
      "cell_type": "code",
      "metadata": {
        "colab": {
          "base_uri": "https://localhost:8080/",
          "height": 35
        },
        "id": "JR8G9Fhdn5SJ",
        "outputId": "5a327672-3e14-477e-bdb1-f9a552e38417"
      },
      "source": [
        "full_name.title()"
      ],
      "execution_count": 9,
      "outputs": [
        {
          "output_type": "execute_result",
          "data": {
            "application/vnd.google.colaboratory.intrinsic+json": {
              "type": "string"
            },
            "text/plain": [
              "'Trisha Tucker'"
            ]
          },
          "metadata": {},
          "execution_count": 9
        }
      ]
    },
    {
      "cell_type": "code",
      "metadata": {
        "colab": {
          "base_uri": "https://localhost:8080/"
        },
        "id": "M5Ul3Hhnn7pI",
        "outputId": "450c60ff-591e-44bd-ed34-660fdbc0c2a9"
      },
      "source": [
        "fruits = ['apples', 'bananas', 'blueberries', 'cherries', 'dates', 'figs', 'grapes','kiwis']\n",
        "print(fruits)\n",
        "\n",
        "#when we print our list of fruits, we are sent a list that looks similar to the input we currently have\n",
        "\n",
        "#In order to retrieve items from our list individually, we let Python know exactly what element we are looking for \n",
        "#in our list by stating the position in which our element we are seeking is at. If we look at our list we have a total of eight items.\n",
        "#We can do a quick check by using len()\n",
        "\n",
        "print(len(fruits))\n",
        "\n",
        "#Checks out!\n",
        "\n",
        "#It is important to remember that Python, just like other programming langauges, the first element in a list is in position 0 and NOT position 1.\n",
        "#So for our example, the elements would be apple in position 0, banana in 1, blueberry in 2 and so on. With this in mind lets ask for elements in position \n",
        "# 5 and 7\n",
        "\n",
        "print(fruits[5])\n",
        "print(fruits[7])\n",
        "\n",
        "#If we count out the values we can see that it all checks out. Another quick tip, if you want to see the final element in a list, which is helpful when\n",
        "#you have a large list you can use negative numbers. For example:\n",
        "\n",
        "print(fruits[-1])\n",
        "\n",
        "#This also works for the second to last and so forth.\n",
        "\n",
        "print(fruits[-2])\n",
        "print(fruits[-3])\n"
      ],
      "execution_count": 2,
      "outputs": [
        {
          "output_type": "stream",
          "name": "stdout",
          "text": [
            "['apples', 'bananas', 'blueberries', 'cherries', 'dates', 'figs', 'grapes', 'kiwis']\n",
            "8\n",
            "figs\n",
            "kiwis\n",
            "kiwis\n",
            "grapes\n",
            "figs\n"
          ]
        }
      ]
    },
    {
      "cell_type": "code",
      "metadata": {
        "colab": {
          "base_uri": "https://localhost:8080/"
        },
        "id": "a3eLKW_bPRRL",
        "outputId": "ff677f4d-dbbd-4f33-99ec-1b5cce11f7dc"
      },
      "source": [
        "#From here you can use individual elements as you'd like. For example we can call them into a message\n",
        "\n",
        "print(\"My favorite fruits are \" + fruits[2] + \" and \" + fruits[5] + \".\")"
      ],
      "execution_count": 3,
      "outputs": [
        {
          "output_type": "stream",
          "name": "stdout",
          "text": [
            "My favorite fruits are blueberries and figs.\n"
          ]
        }
      ]
    },
    {
      "cell_type": "code",
      "metadata": {
        "colab": {
          "base_uri": "https://localhost:8080/"
        },
        "id": "B93aCCIKVTtk",
        "outputId": "7c8582ba-0aa0-4db4-e93b-2ef3c790df1b"
      },
      "source": [
        "print(fruits)\n",
        "\n",
        "fruits[3] = 'cantaloupe'\n",
        "print(fruits)\n",
        "\n",
        "fruits.append('mango')\n",
        "print(fruits)\n",
        "\n",
        "berries = []\n",
        "berries.append('blueberries')\n",
        "berries.append('blackberries')\n",
        "berries.append('raspberries')\n",
        "berries.append('strawberries')\n",
        "\n",
        "print(berries)\n",
        "\n",
        "#We can even replicate our fruits list from before by using .append() as shown.\n",
        "\n",
        "fruits = []\n",
        "fruits.append('apples')\n",
        "fruits.append('blueberries')\n",
        "fruits.append('cantaloupe')\n",
        "fruits.append('dates')\n",
        "fruits.append('figs')\n",
        "fruits.append('grapes')\n",
        "fruits.append('kiwis')\n",
        "fruits.append('mango')\n",
        "\n",
        "print(fruits)"
      ],
      "execution_count": 4,
      "outputs": [
        {
          "output_type": "stream",
          "name": "stdout",
          "text": [
            "['apples', 'bananas', 'blueberries', 'cherries', 'dates', 'figs', 'grapes', 'kiwis']\n",
            "['apples', 'bananas', 'blueberries', 'cantaloupe', 'dates', 'figs', 'grapes', 'kiwis']\n",
            "['apples', 'bananas', 'blueberries', 'cantaloupe', 'dates', 'figs', 'grapes', 'kiwis', 'mango']\n",
            "['blueberries', 'blackberries', 'raspberries', 'strawberries']\n",
            "['apples', 'blueberries', 'cantaloupe', 'dates', 'figs', 'grapes', 'kiwis', 'mango']\n"
          ]
        }
      ]
    },
    {
      "cell_type": "code",
      "metadata": {
        "colab": {
          "base_uri": "https://localhost:8080/"
        },
        "id": "B2T8RITsZKjr",
        "outputId": "69693105-aa29-46b0-c05b-ef6ea1e564c1"
      },
      "source": [
        "fruits.insert(3,'cherries')\n",
        "print(fruits)"
      ],
      "execution_count": 5,
      "outputs": [
        {
          "output_type": "stream",
          "name": "stdout",
          "text": [
            "['apples', 'blueberries', 'cantaloupe', 'cherries', 'dates', 'figs', 'grapes', 'kiwis', 'mango']\n"
          ]
        }
      ]
    },
    {
      "cell_type": "code",
      "metadata": {
        "colab": {
          "base_uri": "https://localhost:8080/"
        },
        "id": "LqyV0xCfyO7r",
        "outputId": "5f9133b5-7705-48bf-be4f-2f1a56118cef"
      },
      "source": [
        "# Let's say for example that upon creating our list of fruits that cantaloupe\n",
        "#should not have been added. We will use del to remove the element, while calling \n",
        "#the position that cantaloupe is in. \n",
        "\n",
        "del fruits[2]\n",
        "print(fruits)"
      ],
      "execution_count": 6,
      "outputs": [
        {
          "output_type": "stream",
          "name": "stdout",
          "text": [
            "['apples', 'blueberries', 'cherries', 'dates', 'figs', 'grapes', 'kiwis', 'mango']\n"
          ]
        }
      ]
    },
    {
      "cell_type": "code",
      "metadata": {
        "id": "olWId5twSzzq"
      },
      "source": [
        ""
      ],
      "execution_count": 6,
      "outputs": []
    }
  ]
}