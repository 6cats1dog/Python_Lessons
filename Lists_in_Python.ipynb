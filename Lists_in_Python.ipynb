{
  "nbformat": 4,
  "nbformat_minor": 0,
  "metadata": {
    "colab": {
      "name": "Lists in Python.ipynb",
      "provenance": []
    },
    "kernelspec": {
      "name": "python3",
      "display_name": "Python 3"
    },
    "language_info": {
      "name": "python"
    }
  },
  "cells": [
    {
      "cell_type": "code",
      "metadata": {
        "colab": {
          "base_uri": "https://localhost:8080/"
        },
        "id": "Cb82qSpeUeJT",
        "outputId": "81993cfc-0636-4a55-a5f3-51366e5a8520"
      },
      "source": [
        "fruits = ['apples', 'bananas', 'blueberries', 'cherries', 'dates', 'figs', 'grapes','kiwis']\n",
        "print(fruits)\n",
        "\n",
        "#when we print our list of fruits, we are sent a list that looks similar to the input we currently have\n",
        "\n",
        "#In order to retrieve items from our list individually, we let Python know exactly what element we are looking for \n",
        "#in our list by stating the position in which our element we are seeking is at. If we look at our list we have a total of eight items.\n",
        "#We can do a quick check by using len()\n",
        "\n",
        "print(len(fruits))\n",
        "\n",
        "#Checks out!\n",
        "\n",
        "#It is important to remember that Python, just like other programming langauges, the first element in a list is in position 0 and NOT position 1.\n",
        "#So for our example, the elements would be apple in position 0, banana in 1, blueberry in 2 and so on. With this in mind lets ask for elements in position \n",
        "# 5 and 7\n",
        "\n",
        "print(fruits[5])\n",
        "print(fruits[7])\n",
        "\n",
        "#If we count out the values we can see that it all checks out. Another quick tip, if you want to see the final element in a list, which is helpful when\n",
        "#you have a large list you can use negative numbers. For example:\n",
        "\n",
        "print(fruits[-1])\n",
        "\n",
        "#This also works for the second to last and so forth.\n",
        "\n",
        "print(fruits[-2])\n",
        "print(fruits[-3])\n"
      ],
      "execution_count": 1,
      "outputs": [
        {
          "output_type": "stream",
          "name": "stdout",
          "text": [
            "['apples', 'bananas', 'blueberries', 'cherries', 'dates', 'figs', 'grapes', 'kiwis']\n",
            "8\n",
            "figs\n",
            "kiwis\n",
            "kiwis\n",
            "grapes\n",
            "figs\n"
          ]
        }
      ]
    },
    {
      "cell_type": "code",
      "metadata": {
        "colab": {
          "base_uri": "https://localhost:8080/"
        },
        "id": "b5fHEZa9UlWv",
        "outputId": "bad0a438-ef5b-42ba-aacd-834973b72931"
      },
      "source": [
        "#From here you can use individual elements as you'd like. For example we can call them into a message\n",
        "\n",
        "print(\"My favorite fruits are \" + fruits[2] + \" and \" + fruits[5] + \".\")"
      ],
      "execution_count": 2,
      "outputs": [
        {
          "output_type": "stream",
          "name": "stdout",
          "text": [
            "My favorite fruits are blueberries and figs.\n"
          ]
        }
      ]
    },
    {
      "cell_type": "code",
      "metadata": {
        "colab": {
          "base_uri": "https://localhost:8080/"
        },
        "id": "jgKyRUVcUr2j",
        "outputId": "2457b109-4d42-4db2-b165-a23b6ad46a42"
      },
      "source": [
        "print(fruits)\n",
        "\n",
        "fruits[3] = 'cantaloupe'\n",
        "print(fruits)\n",
        "\n",
        "fruits.append('mango')\n",
        "print(fruits)\n",
        "\n",
        "berries = []\n",
        "berries.append('blueberries')\n",
        "berries.append('blackberries')\n",
        "berries.append('raspberries')\n",
        "berries.append('strawberries')\n",
        "\n",
        "print(berries)\n",
        "\n",
        "#We can even replicate our fruits list from before by using .append() as shown.\n",
        "\n",
        "fruits = []\n",
        "fruits.append('apples')\n",
        "fruits.append('blueberries')\n",
        "fruits.append('cantaloupe')\n",
        "fruits.append('dates')\n",
        "fruits.append('figs')\n",
        "fruits.append('grapes')\n",
        "fruits.append('kiwis')\n",
        "fruits.append('mango')\n",
        "\n",
        "print(fruits)"
      ],
      "execution_count": 3,
      "outputs": [
        {
          "output_type": "stream",
          "name": "stdout",
          "text": [
            "['apples', 'bananas', 'blueberries', 'cherries', 'dates', 'figs', 'grapes', 'kiwis']\n",
            "['apples', 'bananas', 'blueberries', 'cantaloupe', 'dates', 'figs', 'grapes', 'kiwis']\n",
            "['apples', 'bananas', 'blueberries', 'cantaloupe', 'dates', 'figs', 'grapes', 'kiwis', 'mango']\n",
            "['blueberries', 'blackberries', 'raspberries', 'strawberries']\n",
            "['apples', 'blueberries', 'cantaloupe', 'dates', 'figs', 'grapes', 'kiwis', 'mango']\n"
          ]
        }
      ]
    },
    {
      "cell_type": "code",
      "metadata": {
        "colab": {
          "base_uri": "https://localhost:8080/"
        },
        "id": "5yR28f5OUur2",
        "outputId": "368d266c-24cf-4df6-f568-deea0623f529"
      },
      "source": [
        "fruits.insert(3,'cherries')\n",
        "print(fruits)"
      ],
      "execution_count": 4,
      "outputs": [
        {
          "output_type": "stream",
          "name": "stdout",
          "text": [
            "['apples', 'blueberries', 'cantaloupe', 'cherries', 'dates', 'figs', 'grapes', 'kiwis', 'mango']\n"
          ]
        }
      ]
    },
    {
      "cell_type": "code",
      "metadata": {
        "colab": {
          "base_uri": "https://localhost:8080/"
        },
        "id": "zG5EL-G5UwuU",
        "outputId": "37599409-ba22-47b5-e2fc-2162d2ec8be5"
      },
      "source": [
        "# Let's say for example that upon creating our list of fruits that cantaloupe\n",
        "#should not have been added. We will use del to remove the element, while calling \n",
        "#the position that cantaloupe is in. \n",
        "\n",
        "del fruits[2]\n",
        "print(fruits)"
      ],
      "execution_count": 5,
      "outputs": [
        {
          "output_type": "stream",
          "name": "stdout",
          "text": [
            "['apples', 'blueberries', 'cherries', 'dates', 'figs', 'grapes', 'kiwis', 'mango']\n"
          ]
        }
      ]
    },
    {
      "cell_type": "code",
      "metadata": {
        "id": "S_icvY6GUykZ"
      },
      "source": [
        ""
      ],
      "execution_count": null,
      "outputs": []
    }
  ]
}