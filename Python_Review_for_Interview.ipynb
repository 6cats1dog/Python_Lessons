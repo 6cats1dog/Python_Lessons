{
  "nbformat": 4,
  "nbformat_minor": 0,
  "metadata": {
    "colab": {
      "name": "Python Review for Interview.ipynb",
      "provenance": []
    },
    "kernelspec": {
      "name": "python3",
      "display_name": "Python 3"
    },
    "language_info": {
      "name": "python"
    }
  },
  "cells": [
    {
      "cell_type": "code",
      "execution_count": null,
      "metadata": {
        "colab": {
          "base_uri": "https://localhost:8080/"
        },
        "id": "OiNAfJqjod5I",
        "outputId": "b17102de-8f8c-48a5-8dd4-9643869b05bd"
      },
      "outputs": [
        {
          "output_type": "stream",
          "name": "stdout",
          "text": [
            "24 1680\n"
          ]
        }
      ],
      "source": [
        "list1 = [1, 2, 3, 4]\n",
        "list2 = [5, 6, 7, 8]\n",
        "\n",
        "import numpy as np\n",
        "\n",
        "results_1 = np.prod(list1)\n",
        "results_2 = np.prod(list2)\n",
        "\n",
        "print(results_1, results_2)\n"
      ]
    },
    {
      "cell_type": "code",
      "source": [
        "res_list = [list1[i] * list2[i] for i in range(len(list1))]\n",
        "print(res_list)"
      ],
      "metadata": {
        "colab": {
          "base_uri": "https://localhost:8080/"
        },
        "id": "eVNb_H7lo33E",
        "outputId": "23c0f8e3-92e5-4133-e37f-202475403aa7"
      },
      "execution_count": null,
      "outputs": [
        {
          "output_type": "stream",
          "name": "stdout",
          "text": [
            "[5, 12, 21, 32]\n"
          ]
        }
      ]
    },
    {
      "cell_type": "code",
      "source": [
        "total = sum(list1)\n",
        "print(total)"
      ],
      "metadata": {
        "colab": {
          "base_uri": "https://localhost:8080/"
        },
        "id": "QpPg-u0vppuD",
        "outputId": "103db68f-9034-44be-cca6-718e4b1b0652"
      },
      "execution_count": null,
      "outputs": [
        {
          "output_type": "stream",
          "name": "stdout",
          "text": [
            "10\n"
          ]
        }
      ]
    },
    {
      "cell_type": "code",
      "source": [
        "mean = np.mean(list1)\n",
        "print(mean)"
      ],
      "metadata": {
        "colab": {
          "base_uri": "https://localhost:8080/"
        },
        "id": "TWgPU6Z7qOxV",
        "outputId": "0d01a301-5084-4551-d965-e926e5c2b1c2"
      },
      "execution_count": null,
      "outputs": [
        {
          "output_type": "stream",
          "name": "stdout",
          "text": [
            "2.5\n"
          ]
        }
      ]
    },
    {
      "cell_type": "code",
      "source": [
        "print(3 in list1)"
      ],
      "metadata": {
        "colab": {
          "base_uri": "https://localhost:8080/"
        },
        "id": "-8W5__YQqeVt",
        "outputId": "cf7b8839-5203-41e1-cfa6-55acb1a41784"
      },
      "execution_count": null,
      "outputs": [
        {
          "output_type": "stream",
          "name": "stdout",
          "text": [
            "True\n"
          ]
        }
      ]
    },
    {
      "cell_type": "code",
      "source": [
        "def find_duplicates(elements):\n",
        "  duplicates, seen = set(), set()\n",
        "  for element in elements:\n",
        "    if element in seen:\n",
        "      duplicates.add(element)\n",
        "    seen.add(element)\n",
        "  return list(duplicates)"
      ],
      "metadata": {
        "id": "-b86s7qRKyoS"
      },
      "execution_count": null,
      "outputs": []
    },
    {
      "cell_type": "code",
      "source": [
        "def missing_no(lst):\n",
        "  return set(range(lst[len(lst) -1 ])[1:]) - set(i)\n",
        "\n",
        "i = list(range(1,1000))\n",
        "i.remove(234)\n",
        "\n",
        "print(missing_no(i))\n"
      ],
      "metadata": {
        "colab": {
          "base_uri": "https://localhost:8080/"
        },
        "id": "_zgpFrtlLE6n",
        "outputId": "ed5abb28-199a-43da-c73b-22c41984b169"
      },
      "execution_count": null,
      "outputs": [
        {
          "output_type": "stream",
          "name": "stdout",
          "text": [
            "{234}\n"
          ]
        }
      ]
    },
    {
      "cell_type": "code",
      "source": [
        "def intersect(lst1,lst2):\n",
        "  res, lst2_copy = [], lst2[:]\n",
        "  for i in lst1:\n",
        "    if i in lst2_copy:\n",
        "      res.append(i)\n",
        "    lst2_copy.remove(i)\n",
        "  return res"
      ],
      "metadata": {
        "id": "WyMyuyniLg3g"
      },
      "execution_count": null,
      "outputs": []
    },
    {
      "cell_type": "code",
      "source": [
        ""
      ],
      "metadata": {
        "id": "gidA3PSKOhfq"
      },
      "execution_count": null,
      "outputs": []
    },
    {
      "cell_type": "code",
      "source": [
        ""
      ],
      "metadata": {
        "id": "WyFkVIJ1OhXJ"
      },
      "execution_count": null,
      "outputs": []
    },
    {
      "cell_type": "code",
      "source": [
        ""
      ],
      "metadata": {
        "id": "M6rMmk3mOhTx"
      },
      "execution_count": null,
      "outputs": []
    }
  ]
}